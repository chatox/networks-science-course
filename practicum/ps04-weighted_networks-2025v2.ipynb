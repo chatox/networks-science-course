{
 "cells": [
  {
   "cell_type": "markdown",
   "metadata": {
    "id": "bWrjVo8Gty4Y"
   },
   "source": [
    "# Practice Session 04: Weighted Networks\n"
   ]
  },
  {
   "cell_type": "markdown",
   "metadata": {
    "id": "GPPt8qm4ty4d"
   },
   "source": [
    "In this session we will reconstruct the World Trade Web using [NetworkX](https://networkx.github.io/), a Python package. This practice is inspired by a paper analysing the Topology of the World Trade Web (https://arxiv.org/abs/cond-mat/0301015).\n",
    "\n",
    "You will alo be plotting networks and data using [matplotlib](https://matplotlib.org/3.5.3/api/_as_gen/matplotlib.pyplot.html).\n",
    "\n",
    "The dataset we will use comes from OECD's [quarterly international trade statistics](https://stats.oecd.org/Index.aspx?DataSetCode=QITS#) dataset, and these are your input files:\n",
    "\n",
    "* ``trade-2012-flows.csv`` international trade in 2012\n",
    "* ``trade-countries.csv`` list of countries and territories\n",
    "\n",
    "**Important:** Remember to check you are using version 3.5 of networkx."
   ]
  },
  {
   "cell_type": "markdown",
   "metadata": {
    "id": "LcjFyWOUty4e"
   },
   "source": [
    "# 1. Read mapping of codes to country names"
   ]
  },
  {
   "cell_type": "markdown",
   "metadata": {
    "id": "lJN5Uahwty4f"
   },
   "source": [
    "Read into variable ``id2name`` the file containing the list of countries and territories.\n",
    "\n",
    "This is a tab-separated file with two columns: *code*, which is a letter code (e.g. ``PRT``),  and *name* (e.g., ``Portugal``).\n",
    "\n",
    "You can use the following code snippet to read a compressed file:\n",
    "\n",
    "```python\n",
    "# Open a file for reading in text mode\n",
    "with open(FILENAME, \"rt\") as input_file:\n",
    "\n",
    "    # Create a CSV reader for a tab-delimited file with a header\n",
    "    reader = csv.DictReader(input_file, delimiter='\\t')\n",
    "    \n",
    "    # Iterate through records, each record is a dictionary\n",
    "    for record in reader:\n",
    "        print(record)\n",
    "```"
   ]
  },
  {
   "cell_type": "code",
   "execution_count": null,
   "metadata": {
    "ExecuteTime": {
     "end_time": "2024-09-23T20:42:55.242295Z",
     "start_time": "2024-09-23T20:42:54.033762Z"
    },
    "id": "7d4g2BJ6ty4g"
   },
   "outputs": [],
   "source": [
    "import csv\n",
    "import io\n",
    "import networkx as nx\n",
    "import matplotlib.pyplot as plt\n",
    "import math\n",
    "import pandas as pd"
   ]
  },
  {
   "cell_type": "code",
   "execution_count": null,
   "metadata": {
    "ExecuteTime": {
     "end_time": "2024-09-23T20:42:55.248440Z",
     "start_time": "2024-09-23T20:42:55.246548Z"
    },
    "id": "vI0HY8nlty4i"
   },
   "outputs": [],
   "source": [
    "# Ensure the paths to the files are correct\n",
    "\n",
    "INPUT_NAMES_FILENAME = \"trade-countries.csv\"\n",
    "INPUT_TRADE= \"trade-2012-flows.csv\"\n",
    "YEAR = 2012"
   ]
  },
  {
   "cell_type": "code",
   "execution_count": null,
   "metadata": {
    "ExecuteTime": {
     "end_time": "2024-09-23T20:42:55.322229Z",
     "start_time": "2024-09-23T20:42:55.320761Z"
    },
    "id": "Gog8iKpTty4j"
   },
   "outputs": [],
   "source": [
    "id2name = {}"
   ]
  },
  {
   "cell_type": "markdown",
   "metadata": {
    "id": "rjQT8Xquty4k"
   },
   "source": [
    "<font size=\"+1\" color=\"red\">Replace this cell with your code to read country names into id2name.</font>"
   ]
  },
  {
   "cell_type": "markdown",
   "metadata": {
    "id": "cLngAZJ7ty4l"
   },
   "source": [
    "Test the mapping using the following code."
   ]
  },
  {
   "cell_type": "code",
   "execution_count": null,
   "metadata": {
    "ExecuteTime": {
     "end_time": "2024-09-23T20:43:13.619958Z",
     "start_time": "2024-09-23T20:43:13.617913Z"
    },
    "id": "qOXZqVJ_ty4l"
   },
   "outputs": [],
   "source": [
    "# LEAVE AS-IS, it should print \"Finland\"\n",
    "\n",
    "print(id2name[\"FIN\"])"
   ]
  },
  {
   "cell_type": "markdown",
   "metadata": {
    "id": "6dbqILA8ty4n"
   },
   "source": [
    "# 2. Read flows data"
   ]
  },
  {
   "cell_type": "markdown",
   "metadata": {
    "id": "y9d0144Nty4n"
   },
   "source": [
    "## 2.1. Create a weighted directed graph"
   ]
  },
  {
   "cell_type": "markdown",
   "metadata": {
    "id": "pNMJ-N_Ity4n"
   },
   "source": [
    "The file `INPUT_TRADE` contains three columns:\n",
    "\n",
    "* from (country from which the goods or services are exported)\n",
    "* to (country that receives the goods or services)\n",
    "* amount (total amount in USD)\n",
    "\n",
    "Take into account that exports from one country to a second one are the imports of the second one from the first.\n",
    "\n",
    "Create a NetworkX directed weighted graphs as `g_trade` with 'amount' as the weight of the edges and the nodes named with the country codes.\n",
    "\n",
    "You can create an empty graph using:\n",
    "\n",
    "```python\n",
    "g = nx.DiGraph()\n",
    "```\n",
    "\n",
    "By default the columns read by a DictReader are string, but you can convert the column containing the amount exported to a floating point number by using `float()`. Divide the `amount` by one million and round to the nearest integer (you can use the function `round()`), so the weights will be expressed in millions of dollars. Make sure to include only positive values.\n",
    "\n",
    "**Important:** create only the nodes corresponding to countries listed in ``INPUT_NAMES_FILENAME`` (keys in ``id2name``)"
   ]
  },
  {
   "cell_type": "markdown",
   "metadata": {
    "id": "KCXt-Cmgty4o"
   },
   "source": [
    "<font size=\"+1\" color=\"red\">Replace this cell with your code to create the graph g_trade.</font>"
   ]
  },
  {
   "cell_type": "code",
   "execution_count": null,
   "metadata": {
    "ExecuteTime": {
     "end_time": "2024-09-23T20:43:28.149342Z",
     "start_time": "2024-09-23T20:43:28.146823Z"
    },
    "id": "vBqiTH1fty4o"
   },
   "outputs": [],
   "source": [
    "# LEAVE AS IS\n",
    "\n",
    "print(\"The {:d} graph contains {:d} nodes and {:d} edges with a total weight of {:,d} million USD\".format(YEAR, g_trade.number_of_nodes(),g_trade.size(),sum(d.get(\"weight\", 0) for u, v, d in g_trade.edges(data=True))))"
   ]
  },
  {
   "cell_type": "markdown",
   "metadata": {
    "id": "i3AALwAlty4o"
   },
   "source": [
    "This code should have printed:\n",
    "\n",
    "```\n",
    "The 2012 graph contains 33 nodes and 1049 edges with a total weight of 6,616,535 million USD\n",
    "```\n",
    "\n",
    "If it prints more than that, perhaps you read some edges having one of the two nodes outside of the list of countries."
   ]
  },
  {
   "cell_type": "code",
   "execution_count": null,
   "metadata": {
    "id": "5KgMHsPaclHK"
   },
   "outputs": [],
   "source": [
    "print(id2name)"
   ]
  },
  {
   "cell_type": "code",
   "execution_count": null,
   "metadata": {
    "ExecuteTime": {
     "end_time": "2024-09-23T20:44:03.110230Z",
     "start_time": "2024-09-23T20:44:03.107904Z"
    },
    "id": "Tmv5XxT5ty4p"
   },
   "outputs": [],
   "source": [
    "# LEAVE AS-IS\n",
    "\n",
    "for exporter in [\"GBR\",\"AUS\", \"USA\",]:\n",
    "    for importer in [\"GBR\",\"AUS\", \"USA\",]:\n",
    "      if importer!= exporter:\n",
    "          print(\"In {:d}, {:s} ({:s}) exported to {:s} ({:s}) goods and services worth {:,d} million USD\".format(\n",
    "              YEAR, exporter, id2name[exporter], importer, id2name[importer],\n",
    "                g_trade.get_edge_data(exporter, importer)[\"weight\"]) )\n",
    "\n",
    "          print(\"\")\n"
   ]
  },
  {
   "cell_type": "markdown",
   "metadata": {
    "id": "SX3iCSKrty4p"
   },
   "source": [
    "It should have printed:\n",
    "\n",
    "```\n",
    "In 2012, GBR (United Kingdom) exported to AUS (Australia) goods and services worth 7,022 million USD\n",
    "\n",
    "In 2012, GBR (United Kingdom) exported to USA (United States) goods and services worth 64,245 million USD\n",
    "\n",
    "In 2012, AUS (Australia) exported to GBR (United Kingdom) goods and services worth 6,621 million USD\n",
    "\n",
    "In 2012, AUS (Australia) exported to USA (United States) goods and services worth 7,916 million USD\n",
    "\n",
    "In 2012, USA (United States) exported to GBR (United Kingdom) goods and services worth 54,810 million USD\n",
    "\n",
    "In 2012, USA (United States) exported to AUS (Australia) goods and services worth 31,192 million USD\n",
    "\n",
    "```"
   ]
  },
  {
   "cell_type": "markdown",
   "metadata": {
    "id": "08RPsvsUty4p"
   },
   "source": [
    "## 2.2. Compute totals"
   ]
  },
  {
   "cell_type": "markdown",
   "metadata": {
    "id": "NSHWVOoaty4q"
   },
   "source": [
    "Next, compute the total exports of each country, into a dictionary: `exports`, with keys being country codes, and values being total exports. Do the same with total imports, into the variable `imports`.\n",
    "\n",
    "To iterate through the nodes of a graph, you can use:\n",
    "\n",
    "```python\n",
    "for n in g.nodes():\n",
    "    # n is the name of the node\n",
    "```\n",
    "\n",
    "To create a dictionary `dic` initialized so that all keys are the elements of set `s` and all values are zero:\n",
    "\n",
    "```python\n",
    "dic = dict([(element,0) for element in s])\n",
    "```\n",
    "\n",
    "To avoid code duplication, create a function `sum_weights(graph, direction, weight_key)`. This function should receive a *graph*, a *direction* (\"in\" or \"out\"), and a *weight_key*, defaulting to \"weight\".\n",
    "\n"
   ]
  },
  {
   "cell_type": "markdown",
   "metadata": {
    "id": "TMSGdw0yty4q"
   },
   "source": [
    "<font size=\"+1\" color=\"red\">Replace this cell with your code to compute totals into dictionaries exports and imports. Create a function *sum_weights* to avoid code duplication.</font>"
   ]
  },
  {
   "cell_type": "code",
   "execution_count": null,
   "metadata": {
    "ExecuteTime": {
     "end_time": "2024-09-23T20:45:05.054784Z",
     "start_time": "2024-09-23T20:45:05.052292Z"
    },
    "id": "_W60yaj3ty4r"
   },
   "outputs": [],
   "source": [
    "# LEAVE AS-IS\n",
    "\n",
    "for country in ['GBR', 'AUS', 'USA']:\n",
    "    print(\"In {:d} {:s} exported goods and services worth {:,d} Million USD ,and imported goods and services worth {:,d} Million USD \\n for a total trade balance of {:,d} Million USD.\".format(\n",
    "    YEAR, id2name[country], exports[country], imports[country], exports[country]-imports[country]\n",
    "    ))\n",
    "    print()"
   ]
  },
  {
   "cell_type": "markdown",
   "metadata": {
    "id": "bcEvG4X8ty4r"
   },
   "source": [
    "It should print:\n",
    "\n",
    "```\n",
    "In 2012 United Kingdom exported goods and services worth 325,378 Million USD ,and imported goods and services worth 499,703 Million USD\n",
    " for a total trade balance of -174,325 Million USD.\n",
    "\n",
    "In 2012 Australia exported goods and services worth 71,773 Million USD ,and imported goods and services worth 108,802 Million USD\n",
    " for a total trade balance of -37,029 Million USD.\n",
    "\n",
    "In 2012 United States exported goods and services worth 951,452 Million USD ,and imported goods and services worth 1,205,552 Million USD\n",
    " for a total trade balance of -254,100 Million USD.\n",
    "```"
   ]
  },
  {
   "cell_type": "markdown",
   "metadata": {
    "id": "WPTuaVhcty4s"
   },
   "source": [
    "# 3. Draw the trade graph"
   ]
  },
  {
   "cell_type": "markdown",
   "metadata": {
    "id": "95hoGtPdty4s"
   },
   "source": [
    "Draw a directed graph using NetworkX with the following characteristics.\n",
    "\n",
    "* Node size proportional to total imports.\n",
    "* Directed links in the direction of net trade. Colour proportional to net trade. To avoid clutter represent only the links with a weight > 5000\n",
    "* Use a spring model layout.\n",
    "* Make sure arrow heads are visible.\n",
    "\n",
    "You can use the following Networkx functions:\n",
    "\n",
    "* `nx.spring_layout(g, iterations=100, weight=, k=)`\n",
    "* `positions = nx.draw_networkx_nodes(g, positions, node_color=,node_size=)`\n",
    "* `nx.draw_networkx_edges(g, positions, edgelist=, width=, edge_color=, arrows=True, min_source_margin=0, min_target_margin=)`\n",
    "* `nx.draw_networkx_labels(g, positions, font_color=)`\n",
    "\n",
    "You can define the scale and create a colormap using the following functions\n",
    "* `norm = LogNorm(vmin=min_val, vmax=max_val)`\n",
    "* `cmap = cm.plasma`\n",
    "\n",
    "Tune the parameter k and the size of the nodes to avoid overlap. Higher values of k will result\n",
    "\n",
    "Tip: a good value for the min_target_margin attribute in nx.draw_networkx_edges is $\\sqrt(node\\_size/\\pi)$ where node_size is the same value as in the nx.draw_networkx_nodes() attribute\n",
    "\n",
    "Tip: remember to import cm from matplotlib and LogNorm from matplotlib.colors\n",
    "\n",
    "Tip: Be careful with the size of the node, if it is too big the graph will not be readable try small multipliers if this happens.\n"
   ]
  },
  {
   "cell_type": "markdown",
   "metadata": {
    "id": "qzy04xEAty4s"
   },
   "source": [
    "<font size=\"+1\" color=\"red\">Replace this cell with your code to plot the graph.</font>"
   ]
  },
  {
   "cell_type": "markdown",
   "metadata": {
    "id": "VnlyTAo2ty4t"
   },
   "source": [
    "<font size=\"+1\" color=\"red\">Replace this cell with a brief commentary on the different features of these plots such as major trading countries by export volume, and some of the biggest net trade values.</font>"
   ]
  },
  {
   "cell_type": "markdown",
   "metadata": {
    "id": "xV_gg3Uyty4u"
   },
   "source": [
    "# 4. Comparison of export and import scores"
   ]
  },
  {
   "cell_type": "markdown",
   "metadata": {
    "id": "wzGMStkFty4u"
   },
   "source": [
    "Now, we will compare the imports and exports of different countries.\n",
    "\n",
    "We can do this visually by plotting both in log-log scale. You can use the following code snippet, which assumes we are plotting dictionary *a* against dictionary *b*. **Do not forget to filter out cases where values of *a* or *b* are 0**:\n",
    "\n",
    "```python\n",
    "# Create log-log plot\n",
    "plt.figure(figsize=(20,10))\n",
    "plt.loglog()\n",
    "plt.xlabel(\"x axis label\", {'size': '22'})\n",
    "plt.ylabel(\"y axis label\", {'size': '22'})\n",
    "\n",
    "# Add a diagonal line\n",
    "plt.plot([min(a.values()),max(a.values())], [min(b.values()),max(b.values())], '-.', lw=2)\n",
    "\n",
    "# Do the scatter plot with texts\n",
    "for country in set(a.keys()).intersection(set(b.keys())):\n",
    "    plt.text(a[country], b[country], country, {'size': '12'})\n",
    "```\n",
    "\n",
    "Plot the imports on the x axis and the imports in the y axis.\n",
    "\n",
    "Remember to add labels to the x axis and y axis before delivering your plots, and to use a function (name it `plot_scatter`) to draw your plots: do not duplicate code.\n"
   ]
  },
  {
   "cell_type": "markdown",
   "metadata": {
    "id": "xPf_YUOhty4v"
   },
   "source": [
    "<font size=\"+1\" color=\"red\">Replace this cell with your function *plot_scatter*. **Before do not forget to filter out cases where values of *a* or *b* are 0**</font>"
   ]
  },
  {
   "cell_type": "code",
   "execution_count": null,
   "metadata": {
    "ExecuteTime": {
     "end_time": "2024-09-23T21:04:04.526264Z",
     "start_time": "2024-09-23T21:04:04.338914Z"
    },
    "id": "Wb5GWsKIty4v"
   },
   "outputs": [],
   "source": [
    "# LEAVE AS-IS: print plots for the newer dataset\n",
    "\n",
    "plot_scatter(imports, exports, \"Imports [Millions of USD]\", \"Exports [Millions of USD]\" )"
   ]
  },
  {
   "cell_type": "markdown",
   "metadata": {
    "id": "1EAwy9Yhty41"
   },
   "source": [
    "<font size=\"+1\" color=\"red\">Replace this cell with a brief commentary about the plots above with respect to the trade balance (the difference between exports and imports) of various countries.</font>"
   ]
  },
  {
   "cell_type": "markdown",
   "metadata": {
    "id": "D1EQKzcdty42"
   },
   "source": [
    "# DELIVER (individually)\n",
    "\n",
    "A .zip file containing:\n",
    "\n",
    "* This notebook.\n"
   ]
  },
  {
   "cell_type": "markdown",
   "metadata": {
    "id": "rLta0lu-ty42"
   },
   "source": [
    "<font size=\"+2\" color=\"#003300\">I hereby declare that, except for the code provided by the course instructors, all of my code, report, and figures were produced by myself.</font>"
   ]
  }
 ],
 "metadata": {
  "colab": {
   "provenance": []
  },
  "kernelspec": {
   "display_name": "Python 3 (ipykernel)",
   "language": "python",
   "name": "python3"
  },
  "language_info": {
   "codemirror_mode": {
    "name": "ipython",
    "version": 3
   },
   "file_extension": ".py",
   "mimetype": "text/x-python",
   "name": "python",
   "nbconvert_exporter": "python",
   "pygments_lexer": "ipython3",
   "version": "3.11.13"
  }
 },
 "nbformat": 4,
 "nbformat_minor": 0
}
