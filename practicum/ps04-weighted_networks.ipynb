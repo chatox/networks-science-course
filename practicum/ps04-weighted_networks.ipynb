{
 "cells": [
  {
   "cell_type": "markdown",
   "metadata": {},
   "source": "# Practice Session 04: Weighted Networks\n"
  },
  {
   "cell_type": "markdown",
   "metadata": {},
   "source": [
    "In this session we will reconstruct the World Trade Web by using [NetworkX](https://networkx.github.io/), a Python package. This practice is inspired by a paper analysing the Topology of the World Trade Web (https://arxiv.org/abs/cond-mat/0301015).\n",
    "\n",
    "The dataset we will use comes from OECD's [quarterly international trade statistics](https://stats.oecd.org/Index.aspx?DataSetCode=QITS#) dataset, and these are your input files:\n",
    "\n",
    "* ``trade-2012-flows.csv`` international trade in 2012\n",
    "* ``trade-2022-flows.csv`` international trade in 2022\n",
    "* ``trade-countries.csv`` list of countries and territories\n",
    "\n",
    "<font size=\"-1\" color=\"gray\">(Remove this cell when delivering.)</font>"
   ]
  },
  {
   "cell_type": "markdown",
   "metadata": {},
   "source": [
    "# 1. Read mapping of codes to country names"
   ]
  },
  {
   "cell_type": "markdown",
   "metadata": {},
   "source": [
    "Read into variable ``id2name`` the file containing the list of countries and territories. \n",
    "\n",
    "This is a comma-separated file with two columns: *code*, which is a letter code (e.g. ``PRT``),  and *name* (e.g., ``Portugal``).\n",
    "\n",
    "You can use the following code snippet to read a compressed file:\n",
    "\n",
    "```python\n",
    "# Open a file for reading in text mode\n",
    "with open(FILENAME, \"rt\") as input_file:\n",
    "\n",
    "    # Create a CSV reader for a tab-delimited file with a header\n",
    "    reader = csv.DictReader(input_file, delimiter='\\t')\n",
    "    \n",
    "    # Iterate through records, each record is a dictionary\n",
    "    for record in reader:\n",
    "        print(record)\n",
    "```\n",
    "\n",
    "<font size=\"-1\" color=\"gray\">(Remove this cell when delivering.)</font>"
   ]
  },
  {
   "cell_type": "code",
   "metadata": {
    "ExecuteTime": {
     "end_time": "2024-09-23T20:42:55.242295Z",
     "start_time": "2024-09-23T20:42:54.033762Z"
    }
   },
   "source": [
    "import csv\n",
    "import io\n",
    "import networkx as nx\n",
    "import matplotlib.pyplot as plt\n",
    "import math\n",
    "import pandas as pd"
   ],
   "outputs": [],
   "execution_count": 1
  },
  {
   "cell_type": "code",
   "metadata": {
    "ExecuteTime": {
     "end_time": "2024-09-23T20:42:55.248440Z",
     "start_time": "2024-09-23T20:42:55.246548Z"
    }
   },
   "source": [
    "# Leave this cell as-is\n",
    "\n",
    "INPUT_NAMES_FILENAME = \"trade-countries.csv\"\n",
    "INPUT_TRADE_OLD = \"trade-2012-flows.csv\"\n",
    "YEAR_OLD = 2012\n",
    "INPUT_TRADE_NEW = \"trade-2022-flows.csv\"\n",
    "YEAR_NEW = 2022"
   ],
   "outputs": [],
   "execution_count": 2
  },
  {
   "cell_type": "code",
   "metadata": {
    "ExecuteTime": {
     "end_time": "2024-09-23T20:42:55.322229Z",
     "start_time": "2024-09-23T20:42:55.320761Z"
    }
   },
   "source": [
    "id2name = {}"
   ],
   "outputs": [],
   "execution_count": 3
  },
  {
   "cell_type": "markdown",
   "metadata": {},
   "source": [
    "<font size=\"+1\" color=\"red\">Replace this cell with your code to read country names into id2name.</font>"
   ]
  },
  {
   "cell_type": "markdown",
   "metadata": {},
   "source": [
    "Test the mapping using the following code.\n",
    "\n",
    "<font size=\"-1\" color=\"gray\">(Remove this cell when delivering.)</font>"
   ]
  },
  {
   "cell_type": "code",
   "metadata": {
    "ExecuteTime": {
     "end_time": "2024-09-23T20:43:13.619958Z",
     "start_time": "2024-09-23T20:43:13.617913Z"
    }
   },
   "source": [
    "# LEAVE AS-IS, it should print \"Norway\"\n",
    "\n",
    "print(id2name[\"NOR\"])"
   ],
   "outputs": [
    {
     "name": "stdout",
     "output_type": "stream",
     "text": [
      "Norway\n"
     ]
    }
   ],
   "execution_count": 6
  },
  {
   "cell_type": "markdown",
   "metadata": {},
   "source": [
    "# 2. Read flows data into two graphs"
   ]
  },
  {
   "cell_type": "markdown",
   "metadata": {},
   "source": [
    "## 2.1. Read amount traded"
   ]
  },
  {
   "cell_type": "markdown",
   "metadata": {},
   "source": [
    "The files `INPUT_TRADE_OLD` and `INPUT_TRADE_NEW` contain three columns:\n",
    "\n",
    "* from (country from which the goods or services are exported)\n",
    "* to (country that receives the goods or services)\n",
    "* amount (total amount in USD)\n",
    "\n",
    "Read the graphs as directed graphs into variables `gOld` and `gNew` respectively.\n",
    "\n",
    "You can create an empty graph using:\n",
    "\n",
    "```python\n",
    "g = nx.DiGraph()\n",
    "```\n",
    "\n",
    "By default the columns read by a DictReader are string, but you can convert the column containing the amount exported to a floating point number by using `float()`. Divide the `amount` by one million and round to the nearest integer, so the weights will be expressed in millions of dollars.\n",
    "\n",
    "To add a weighted edge in *g* from node *u* to node *v* with weight *w*, use `g.add_edge(u, v, weight=w)`.\n",
    "\n",
    "**Important:** create only the nodes corresponding to countries listed in ``INPUT_NAMES_FILENAME`` (keys in ``id2name``)\n",
    "\n",
    "<font size=\"-1\" color=\"gray\">(Remove this cell when delivering.)</font>"
   ]
  },
  {
   "cell_type": "markdown",
   "metadata": {},
   "source": [
    "<font size=\"+1\" color=\"red\">Replace this cell with your code to read the two graphs: ``gOld`` and ``gNew``.</font>"
   ]
  },
  {
   "cell_type": "markdown",
   "metadata": {},
   "source": [
    "The following should print:\n",
    "\n",
    "```\n",
    "The 2012 graph contains 33 nodes\n",
    "The 2022 graph contains 33 nodes\n",
    "```\n",
    "\n",
    "If it prints more than that, perhaps you read some edges having one of the two nodes outside of the list of countries.\n",
    "\n",
    "<font size=\"-1\" color=\"gray\">(Remove this cell when delivering.)</font>"
   ]
  },
  {
   "cell_type": "code",
   "metadata": {
    "ExecuteTime": {
     "end_time": "2024-09-23T20:43:28.149342Z",
     "start_time": "2024-09-23T20:43:28.146823Z"
    }
   },
   "source": [
    "# LEAVE AS-IS\n",
    "\n",
    "print(\"The {:d} graph contains {:d} nodes\".format(YEAR_OLD, gOld.number_of_nodes()))\n",
    "print(\"The {:d} graph contains {:d} nodes\".format(YEAR_NEW, gNew.number_of_nodes()))"
   ],
   "outputs": [
    {
     "name": "stdout",
     "output_type": "stream",
     "text": [
      "The 2012 graph contains 33 nodes\n",
      "The 2022 graph contains 33 nodes\n"
     ]
    }
   ],
   "execution_count": 8
  },
  {
   "cell_type": "markdown",
   "metadata": {},
   "source": [
    "The following should print:\n",
    "\n",
    "```\n",
    "In 2012, ESP (Spain) exported to SVK (Slovak Republic) goods and services for 777 USD millions\n",
    "by 2022, it exported 1,548 USD millions\n",
    "\n",
    "In 2012, ESP (Spain) exported to ITA (Italy) goods and services for 21,601 USD millions\n",
    "by 2022, it exported 32,225 USD millions\n",
    "\n",
    "In 2012, USA (United States) exported to SVK (Slovak Republic) goods and services for 333 USD millions\n",
    "by 2022, it exported 376 USD millions\n",
    "\n",
    "In 2012, USA (United States) exported to ITA (Italy) goods and services for 15,972 USD millions\n",
    "by 2022, it exported 27,411 USD millions\n",
    "```\n",
    "\n",
    "<font size=\"-1\" color=\"gray\">(Remove this cell when delivering.)</font>"
   ]
  },
  {
   "cell_type": "code",
   "metadata": {
    "ExecuteTime": {
     "end_time": "2024-09-23T20:44:03.110230Z",
     "start_time": "2024-09-23T20:44:03.107904Z"
    }
   },
   "source": [
    "# LEAVE AS-IS\n",
    "\n",
    "for exporter in [\"ESP\", \"USA\"]:\n",
    "    for importer in [\"SVK\", \"ITA\"]:\n",
    "        print(\"In {:d}, {:s} ({:s}) exported to {:s} ({:s}) goods and services for {:,d} USD millions\".format(\n",
    "            YEAR_OLD, exporter, id2name[exporter], importer, id2name[importer],\n",
    "               gOld.get_edge_data(exporter, importer)[\"weight\"]) )\n",
    "\n",
    "        print(\"by {:d}, it exported {:,d} USD millions\".format(YEAR_NEW, gNew.get_edge_data(exporter, importer)[\"weight\"]))\n",
    "        print(\"\")\n",
    "    "
   ],
   "outputs": [
    {
     "name": "stdout",
     "output_type": "stream",
     "text": [
      "In 2012, ESP (Spain) exported to SVK (Slovak Republic) goods and services for 777 USD millions\n",
      "by 2022, it exported 1,548 USD millions\n",
      "\n",
      "In 2012, ESP (Spain) exported to ITA (Italy) goods and services for 21,601 USD millions\n",
      "by 2022, it exported 32,225 USD millions\n",
      "\n",
      "In 2012, USA (United States) exported to SVK (Slovak Republic) goods and services for 333 USD millions\n",
      "by 2022, it exported 376 USD millions\n",
      "\n",
      "In 2012, USA (United States) exported to ITA (Italy) goods and services for 15,972 USD millions\n",
      "by 2022, it exported 27,411 USD millions\n",
      "\n"
     ]
    }
   ],
   "execution_count": 9
  },
  {
   "cell_type": "markdown",
   "metadata": {},
   "source": [
    "## 2.2. Compute totals"
   ]
  },
  {
   "cell_type": "markdown",
   "metadata": {},
   "source": [
    "Next, compute the total exports of each country, into two dictionaries: `exportsOld` and `exportsNew`, with keys being country codes, and values being total exports. Do the same with total imports, into variables `importsOld` and `importsNew`.\n",
    "\n",
    "To iterate through the nodes of a graph, you can use:\n",
    "\n",
    "```python\n",
    "for n in g.nodes():\n",
    "    # n is the name of the node\n",
    "```\n",
    "\n",
    "To iterate through the edges of a graph, you can use:\n",
    "\n",
    "```python\n",
    "for u, v, d in g.edges(data=True):\n",
    "    w = d['weight']\n",
    "    # u is the source, v the destination, w the weight\n",
    "```\n",
    "\n",
    "To create a dictionary `dic` initialized so that all keys are the elements of set `s` and all values are zero:\n",
    "\n",
    "```python\n",
    "dic = dict([(element,0) for element in s])\n",
    "```\n",
    "\n",
    "To avoid code duplication, create a function `sum_weights(graph, direction, weight_key)` to avoid duplication. This function should receive a *graph*, a *direction* (\"in\" or \"out\"), and a *weight_key*, defaulting to \"weight\".\n",
    "\n",
    "    \n",
    "<font size=\"-1\" color=\"gray\">(Remove this cell when delivering.)</font>"
   ]
  },
  {
   "cell_type": "markdown",
   "metadata": {},
   "source": [
    "<font size=\"+1\" color=\"red\">Replace this cell with your code to compute totals into dictionaries exportsOld, exportsNew, importsOld, importsNew. Create a function *sum_weights* to avoid code duplication.</font>"
   ]
  },
  {
   "cell_type": "markdown",
   "metadata": {},
   "source": [
    "The following should print:\n",
    "\n",
    "```\n",
    "Poland exported 128,160 USD Million in 2010 and 271,095 USD Million in 2021 (growth 2.1x),\n",
    " and imported 136,333 USD Million in 2010 and 251,993 USD Million in 2021 (growth 1.8x).\n",
    "\n",
    "Spain exported 192,362 USD Million in 2010 and 294,287 USD Million in 2021 (growth 1.5x),\n",
    " and imported 224,917 USD Million in 2010 and 279,927 USD Million in 2021 (growth 1.2x).\n",
    "\n",
    "Chile exported 31,615 USD Million in 2010 and 35,069 USD Million in 2021 (growth 1.1x),\n",
    " and imported 24,462 USD Million in 2010 and 35,868 USD Million in 2021 (growth 1.5x).\n",
    "```\n",
    "\n",
    "<font size=\"-1\" color=\"gray\">(Remove this cell when delivering.)</font>"
   ]
  },
  {
   "cell_type": "code",
   "metadata": {
    "ExecuteTime": {
     "end_time": "2024-09-23T20:45:05.054784Z",
     "start_time": "2024-09-23T20:45:05.052292Z"
    }
   },
   "source": [
    "# LEAVE AS-IS\n",
    "\n",
    "for country in ['EST', 'ESP', 'TUR']:\n",
    "    print(\"{:s} exported {:,d} USD Million in {:d} and {:,d} USD Million in {:d} (growth {:.1f}x),\".format(\n",
    "        id2name[country],\n",
    "        exportsOld[country], YEAR_OLD,\n",
    "        exportsNew[country], YEAR_NEW,\n",
    "        exportsNew[country]/exportsOld[country]\n",
    "    ))\n",
    "    print(\" and imported {:,d} USD Million in {:d} and {:,d} USD Million in {:d} (growth {:.1f}x).\".format(\n",
    "        importsOld[country], YEAR_OLD,\n",
    "        importsNew[country], YEAR_NEW,\n",
    "        importsNew[country]/importsOld[country]\n",
    "    ))\n",
    "    print()"
   ],
   "outputs": [
    {
     "name": "stdout",
     "output_type": "stream",
     "text": [
      "Estonia exported 10,082 USD Million in 2012 and 14,312 USD Million in 2022 (growth 1.4x),\n",
      " and imported 11,401 USD Million in 2012 and 10,463 USD Million in 2022 (growth 0.9x).\n",
      "\n",
      "Spain exported 214,025 USD Million in 2012 and 313,679 USD Million in 2022 (growth 1.5x),\n",
      " and imported 208,224 USD Million in 2012 and 234,182 USD Million in 2022 (growth 1.1x).\n",
      "\n",
      "Türkiye exported 66,536 USD Million in 2012 and 133,088 USD Million in 2022 (growth 2.0x),\n",
      " and imported 112,203 USD Million in 2012 and 110,220 USD Million in 2022 (growth 1.0x).\n",
      "\n"
     ]
    }
   ],
   "execution_count": 11
  },
  {
   "cell_type": "markdown",
   "metadata": {},
   "source": [
    "The code below, which you should use as-is, converts the imports and exports into a [Pandas dataframe](https://pandas.pydata.org/pandas-docs/stable/reference/api/pandas.DataFrame.html).\n",
    "\n",
    "<font size=\"-1\" color=\"gray\">(Remove this cell when delivering.)</font>"
   ]
  },
  {
   "cell_type": "code",
   "metadata": {
    "ExecuteTime": {
     "end_time": "2024-09-23T20:45:20.123302Z",
     "start_time": "2024-09-23T20:45:20.115549Z"
    }
   },
   "source": [
    "# LEAVE AS-IS\n",
    "\n",
    "sorted_countries = sorted(id2name.keys())\n",
    "\n",
    "flowsData = {\n",
    "    'expOld': [(exportsOld[c] if c in exportsOld else 0) for c in sorted_countries],\n",
    "    'impOld': [(importsOld[c] if c in importsOld else 0) for c in sorted_countries],\n",
    "    'expNew': [(exportsNew[c] if c in exportsNew else 0) for c in sorted_countries], \n",
    "    'impNew': [(importsNew[c] if c in importsNew else 0) for c in sorted_countries],\n",
    "}\n",
    "\n",
    "flowsDF = pd.DataFrame(flowsData, index=sorted_countries)\n",
    "flowsDF"
   ],
   "outputs": [
    {
     "data": {
      "text/plain": [
       "      expOld   impOld   expNew   impNew\n",
       "AUS    71773   108802    97914    93347\n",
       "AUT   130958   144673   177134   149509\n",
       "BEL   244684   303104   383111   289290\n",
       "CAN   393860   361999   531428   431171\n",
       "CHE   204660   211169   273772   222134\n",
       "CHL    34975    35969    33794    38953\n",
       "CZE   133716   106840   214859   130849\n",
       "DEU  1044010   836190  1284888   855477\n",
       "DNK    86293    72924    85535    79871\n",
       "ESP   214025   208224   313679   234182\n",
       "EST    10082    11401    14312    10463\n",
       "FIN    45780    52469        0    58960\n",
       "FRA   412499   512127   472845   466256\n",
       "GBR   325378   499703   363209   433529\n",
       "GRC    16182    29158    29942    31169\n",
       "HUN    77825    64421        0    89424\n",
       "IRL   106240    56029   190680    84683\n",
       "ISL     4444     3587     6849     5708\n",
       "ISR    39005    40962        0    46797\n",
       "ITA   355479   290857        0   355378\n",
       "JPN   274832   209433   271553   235148\n",
       "LUX    17031    23786        0    25213\n",
       "MEX   328408   273421   497662   387156\n",
       "NLD   455931   354147        0   468228\n",
       "NOR   143506    70651   251346    68951\n",
       "NZL    18290    18048    18263    22863\n",
       "POL   142173   147899   284378   217934\n",
       "PRT    44653    50831    69610    69262\n",
       "SVK    68940    56875    93586    67270\n",
       "SVN    19170    21617        0    35224\n",
       "SWE   133745   121464   161720   117632\n",
       "TUR    66536   112203   133088   110220\n",
       "USA   951452  1205552  1309054  1631960"
      ],
      "text/html": [
       "<div>\n",
       "<style scoped>\n",
       "    .dataframe tbody tr th:only-of-type {\n",
       "        vertical-align: middle;\n",
       "    }\n",
       "\n",
       "    .dataframe tbody tr th {\n",
       "        vertical-align: top;\n",
       "    }\n",
       "\n",
       "    .dataframe thead th {\n",
       "        text-align: right;\n",
       "    }\n",
       "</style>\n",
       "<table border=\"1\" class=\"dataframe\">\n",
       "  <thead>\n",
       "    <tr style=\"text-align: right;\">\n",
       "      <th></th>\n",
       "      <th>expOld</th>\n",
       "      <th>impOld</th>\n",
       "      <th>expNew</th>\n",
       "      <th>impNew</th>\n",
       "    </tr>\n",
       "  </thead>\n",
       "  <tbody>\n",
       "    <tr>\n",
       "      <th>AUS</th>\n",
       "      <td>71773</td>\n",
       "      <td>108802</td>\n",
       "      <td>97914</td>\n",
       "      <td>93347</td>\n",
       "    </tr>\n",
       "    <tr>\n",
       "      <th>AUT</th>\n",
       "      <td>130958</td>\n",
       "      <td>144673</td>\n",
       "      <td>177134</td>\n",
       "      <td>149509</td>\n",
       "    </tr>\n",
       "    <tr>\n",
       "      <th>BEL</th>\n",
       "      <td>244684</td>\n",
       "      <td>303104</td>\n",
       "      <td>383111</td>\n",
       "      <td>289290</td>\n",
       "    </tr>\n",
       "    <tr>\n",
       "      <th>CAN</th>\n",
       "      <td>393860</td>\n",
       "      <td>361999</td>\n",
       "      <td>531428</td>\n",
       "      <td>431171</td>\n",
       "    </tr>\n",
       "    <tr>\n",
       "      <th>CHE</th>\n",
       "      <td>204660</td>\n",
       "      <td>211169</td>\n",
       "      <td>273772</td>\n",
       "      <td>222134</td>\n",
       "    </tr>\n",
       "    <tr>\n",
       "      <th>CHL</th>\n",
       "      <td>34975</td>\n",
       "      <td>35969</td>\n",
       "      <td>33794</td>\n",
       "      <td>38953</td>\n",
       "    </tr>\n",
       "    <tr>\n",
       "      <th>CZE</th>\n",
       "      <td>133716</td>\n",
       "      <td>106840</td>\n",
       "      <td>214859</td>\n",
       "      <td>130849</td>\n",
       "    </tr>\n",
       "    <tr>\n",
       "      <th>DEU</th>\n",
       "      <td>1044010</td>\n",
       "      <td>836190</td>\n",
       "      <td>1284888</td>\n",
       "      <td>855477</td>\n",
       "    </tr>\n",
       "    <tr>\n",
       "      <th>DNK</th>\n",
       "      <td>86293</td>\n",
       "      <td>72924</td>\n",
       "      <td>85535</td>\n",
       "      <td>79871</td>\n",
       "    </tr>\n",
       "    <tr>\n",
       "      <th>ESP</th>\n",
       "      <td>214025</td>\n",
       "      <td>208224</td>\n",
       "      <td>313679</td>\n",
       "      <td>234182</td>\n",
       "    </tr>\n",
       "    <tr>\n",
       "      <th>EST</th>\n",
       "      <td>10082</td>\n",
       "      <td>11401</td>\n",
       "      <td>14312</td>\n",
       "      <td>10463</td>\n",
       "    </tr>\n",
       "    <tr>\n",
       "      <th>FIN</th>\n",
       "      <td>45780</td>\n",
       "      <td>52469</td>\n",
       "      <td>0</td>\n",
       "      <td>58960</td>\n",
       "    </tr>\n",
       "    <tr>\n",
       "      <th>FRA</th>\n",
       "      <td>412499</td>\n",
       "      <td>512127</td>\n",
       "      <td>472845</td>\n",
       "      <td>466256</td>\n",
       "    </tr>\n",
       "    <tr>\n",
       "      <th>GBR</th>\n",
       "      <td>325378</td>\n",
       "      <td>499703</td>\n",
       "      <td>363209</td>\n",
       "      <td>433529</td>\n",
       "    </tr>\n",
       "    <tr>\n",
       "      <th>GRC</th>\n",
       "      <td>16182</td>\n",
       "      <td>29158</td>\n",
       "      <td>29942</td>\n",
       "      <td>31169</td>\n",
       "    </tr>\n",
       "    <tr>\n",
       "      <th>HUN</th>\n",
       "      <td>77825</td>\n",
       "      <td>64421</td>\n",
       "      <td>0</td>\n",
       "      <td>89424</td>\n",
       "    </tr>\n",
       "    <tr>\n",
       "      <th>IRL</th>\n",
       "      <td>106240</td>\n",
       "      <td>56029</td>\n",
       "      <td>190680</td>\n",
       "      <td>84683</td>\n",
       "    </tr>\n",
       "    <tr>\n",
       "      <th>ISL</th>\n",
       "      <td>4444</td>\n",
       "      <td>3587</td>\n",
       "      <td>6849</td>\n",
       "      <td>5708</td>\n",
       "    </tr>\n",
       "    <tr>\n",
       "      <th>ISR</th>\n",
       "      <td>39005</td>\n",
       "      <td>40962</td>\n",
       "      <td>0</td>\n",
       "      <td>46797</td>\n",
       "    </tr>\n",
       "    <tr>\n",
       "      <th>ITA</th>\n",
       "      <td>355479</td>\n",
       "      <td>290857</td>\n",
       "      <td>0</td>\n",
       "      <td>355378</td>\n",
       "    </tr>\n",
       "    <tr>\n",
       "      <th>JPN</th>\n",
       "      <td>274832</td>\n",
       "      <td>209433</td>\n",
       "      <td>271553</td>\n",
       "      <td>235148</td>\n",
       "    </tr>\n",
       "    <tr>\n",
       "      <th>LUX</th>\n",
       "      <td>17031</td>\n",
       "      <td>23786</td>\n",
       "      <td>0</td>\n",
       "      <td>25213</td>\n",
       "    </tr>\n",
       "    <tr>\n",
       "      <th>MEX</th>\n",
       "      <td>328408</td>\n",
       "      <td>273421</td>\n",
       "      <td>497662</td>\n",
       "      <td>387156</td>\n",
       "    </tr>\n",
       "    <tr>\n",
       "      <th>NLD</th>\n",
       "      <td>455931</td>\n",
       "      <td>354147</td>\n",
       "      <td>0</td>\n",
       "      <td>468228</td>\n",
       "    </tr>\n",
       "    <tr>\n",
       "      <th>NOR</th>\n",
       "      <td>143506</td>\n",
       "      <td>70651</td>\n",
       "      <td>251346</td>\n",
       "      <td>68951</td>\n",
       "    </tr>\n",
       "    <tr>\n",
       "      <th>NZL</th>\n",
       "      <td>18290</td>\n",
       "      <td>18048</td>\n",
       "      <td>18263</td>\n",
       "      <td>22863</td>\n",
       "    </tr>\n",
       "    <tr>\n",
       "      <th>POL</th>\n",
       "      <td>142173</td>\n",
       "      <td>147899</td>\n",
       "      <td>284378</td>\n",
       "      <td>217934</td>\n",
       "    </tr>\n",
       "    <tr>\n",
       "      <th>PRT</th>\n",
       "      <td>44653</td>\n",
       "      <td>50831</td>\n",
       "      <td>69610</td>\n",
       "      <td>69262</td>\n",
       "    </tr>\n",
       "    <tr>\n",
       "      <th>SVK</th>\n",
       "      <td>68940</td>\n",
       "      <td>56875</td>\n",
       "      <td>93586</td>\n",
       "      <td>67270</td>\n",
       "    </tr>\n",
       "    <tr>\n",
       "      <th>SVN</th>\n",
       "      <td>19170</td>\n",
       "      <td>21617</td>\n",
       "      <td>0</td>\n",
       "      <td>35224</td>\n",
       "    </tr>\n",
       "    <tr>\n",
       "      <th>SWE</th>\n",
       "      <td>133745</td>\n",
       "      <td>121464</td>\n",
       "      <td>161720</td>\n",
       "      <td>117632</td>\n",
       "    </tr>\n",
       "    <tr>\n",
       "      <th>TUR</th>\n",
       "      <td>66536</td>\n",
       "      <td>112203</td>\n",
       "      <td>133088</td>\n",
       "      <td>110220</td>\n",
       "    </tr>\n",
       "    <tr>\n",
       "      <th>USA</th>\n",
       "      <td>951452</td>\n",
       "      <td>1205552</td>\n",
       "      <td>1309054</td>\n",
       "      <td>1631960</td>\n",
       "    </tr>\n",
       "  </tbody>\n",
       "</table>\n",
       "</div>"
      ]
     },
     "execution_count": 12,
     "metadata": {},
     "output_type": "execute_result"
    }
   ],
   "execution_count": 12
  },
  {
   "cell_type": "markdown",
   "metadata": {},
   "source": [
    "# 3. Draw the exports graphs"
   ]
  },
  {
   "cell_type": "markdown",
   "metadata": {},
   "source": [
    "Draw the two graphs using NetworkX. Define an auxiliary function named `plotGraph(graph, exports)` for this, and use it to plot both graphs.\n",
    "\n",
    "You can adapt the following code snippet. If `g` is a NetworkX graph in which weights are expressed in the variable *weight*, the following layouts a graph using a spring model. The constants *NODE_SIZE_MULTIPLIER* and *EDGE_WIDTH_MULTIPLIER* should be numbers smaller than one used to reduce the node sizes and edge widths to a manegeable size (set by trial and error, start from 0.01 but for both but modify them individually until the graph looks good).\n",
    "\n",
    "```python\n",
    "def plotGraph(g,exports):\n",
    "\n",
    "    plt.figure(figsize=(20,12))\n",
    "    \n",
    "    # Compute node sizes as a function of total exports\n",
    "    node_sizes = []\n",
    "    for node in g.nodes():\n",
    "        node_sizes.append(exports[node] * NODE_SIZE_MULTIPLIER)\n",
    "\n",
    "    # Compute edge widths as a function of exports\n",
    "    edge_widths = []\n",
    "    for u, v, d in g.edges(data=True):\n",
    "        weight = math.log(d['weight']) * EDGE_WIDTH_MULTIPLIER\n",
    "        edge_widths.append(weight)\n",
    "        \n",
    "    # Determine node positions\n",
    "    pos = nx.spring_layout(g, iterations=100, weight=\"weight\")\n",
    "    \n",
    "    # Draw nodes\n",
    "    nx.draw_networkx_nodes(g, pos, node_color=\"orange\", node_size=node_sizes)\n",
    "\n",
    "    # Draw edges\n",
    "    nx.draw_networkx_edges(g, pos, width=edge_widths, )\n",
    "\n",
    "    # Draw labels and display graph\n",
    "    _ = nx.draw_networkx_labels(g, pos, font_color=\"purple\")\n",
    "```\n",
    "\n",
    "<font size=\"-1\" color=\"gray\">(Remove this cell when delivering.)</font>"
   ]
  },
  {
   "cell_type": "markdown",
   "metadata": {},
   "source": [
    "<font size=\"+1\" color=\"red\">Replace this cell with your code to plot the two graphs.</font>"
   ]
  },
  {
   "cell_type": "markdown",
   "metadata": {},
   "source": "<font size=\"+1\" color=\"red\">Replace this cell with (1) a brief commentary on what are the similarities and differences you observe between these two graphs and (2) the answer to the following: identify and discuss any 3 countries that serve as major trade hubs. How consistent are their positions across both years, and what might this indicate about their roles in international trade?</font>"
  },
  {
   "cell_type": "markdown",
   "metadata": {},
   "source": [
    "# 4. Comparison of export and import scores"
   ]
  },
  {
   "cell_type": "markdown",
   "metadata": {},
   "source": [
    "Now, we will countries' imports and exports.\n",
    "\n",
    "We can do this visually by plotting both in log-log scale. You can use the following code snippet, which assumes we are plotting dictionary *a* against dictionary *b*. **Do not forget to filter out cases where values of *a* or *b* are 0**:\n",
    "\n",
    "```python\n",
    "# Create log-log plot\n",
    "plt.figure(figsize=(20,10))\n",
    "plt.loglog()\n",
    "plt.xlabel(\"x axis label\", {'size': '22'})\n",
    "plt.ylabel(\"y axis label\", {'size': '22'})\n",
    "\n",
    "# Add a diagonal line\n",
    "plt.plot([min(a.values()),max(a.values())], [min(b.values()),max(b.values())], '-.', lw=2)\n",
    "\n",
    "# Do the scatter plot with texts\n",
    "for country in set(a.keys()).intersection(set(b.keys())):\n",
    "    plt.text(a[country], b[country], country, {'size': '12'})\n",
    "```\n",
    "\n",
    "Remember to add labels to the x axis and y axis before delivering your plots, and to use a function (name it `plot_scatter`) to draw your plots: do not duplicate code.\n",
    "\n",
    "<font size=\"-1\" color=\"gray\">(Remove this cell when delivering.)</font>"
   ]
  },
  {
   "cell_type": "markdown",
   "metadata": {},
   "source": [
    "<font size=\"+1\" color=\"red\">Replace this cell with your function *plot_scatter*.\n",
    "**Do not forget to filter out before cases where values of *a* or *b* are 0**</font>"
   ]
  },
  {
   "cell_type": "code",
   "metadata": {
    "ExecuteTime": {
     "end_time": "2024-09-23T21:04:04.526264Z",
     "start_time": "2024-09-23T21:04:04.338914Z"
    }
   },
   "source": [
    "# LEAVE AS-IS: print plots for the newer dataset\n",
    "\n",
    "plot_scatter( importsNew, exportsNew, \"Imports [Millions of USD]\", \"Exports [Millions of USD]\" )"
   ],
   "outputs": [
    {
     "data": {
      "text/plain": [
       "<Figure size 2000x1000 with 1 Axes>"
      ],
      "image/png": "[encoded data removed]"
     },
     "metadata": {},
     "output_type": "display_data"
    }
   ],
   "execution_count": 42
  },
  {
   "cell_type": "markdown",
   "metadata": {},
   "source": "<font size=\"+1\" color=\"red\">Replace this cell with a brief commentary about the plots above with respect to the trade balance (the difference between exports and imports) of various countries.</font>"
  },
  {
   "cell_type": "markdown",
   "metadata": {},
   "source": [
    "# DELIVER (individually)\n",
    "\n",
    "A .zip file containing:\n",
    "\n",
    "* This notebook.\n"
   ]
  },
  {
   "cell_type": "markdown",
   "metadata": {},
   "source": [
    "<font size=\"+2\" color=\"#003300\">I hereby declare that, except for the code provided by the course instructors, all of my code, report, and figures were produced by myself.</font>"
   ]
  }
 ],
 "metadata": {
  "kernelspec": {
   "display_name": "Python 3",
   "language": "python",
   "name": "python3"
  },
  "language_info": {
   "codemirror_mode": {
    "name": "ipython",
    "version": 3
   },
   "file_extension": ".py",
   "mimetype": "text/x-python",
   "name": "python",
   "nbconvert_exporter": "python",
   "pygments_lexer": "ipython3",
   "version": "3.7.6"
  }
 },
 "nbformat": 4,
 "nbformat_minor": 2
}
