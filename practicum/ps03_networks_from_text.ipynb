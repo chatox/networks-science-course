{
  "cells": [
    {
      "metadata": {
        "id": "77ed273332e2fadc"
      },
      "cell_type": "markdown",
      "source": [
        "# Practice Session 04: Networks from text"
      ],
      "id": "77ed273332e2fadc"
    },
    {
      "metadata": {
        "id": "12a9393430d5bd1"
      },
      "cell_type": "markdown",
      "source": [
        "In this session we will learn to construct a network from a set of implicit relationships. The relationships that we will study are between accounts in Twitter, a micro-blogging service.\n",
        "\n",
        "We will create two networks: one directed and one undirected.\n",
        "\n",
        "* In the **directed mention network**, we will say that there is a link of weight *w* from account *x* to account *y*, if account *x* has re-tweeted (re-posted) or mentioned *w* times account *y*.\n",
        "\n",
        "* In the **undirected co-mention network**, we will say that there is a link of weight *w* between accounts *x* and *y*, if both accounts have been mentioned together in *w* tweets.\n",
        "\n",
        "The input material you will use is a file named `CovidLockdownCatalonia.json.gz` available in the [data/](data/) directory. This is a gzip-compressed file, which you can de-compress using the `gunzip` command. The file contain about 35,500 messages (\"tweets\") posted between March 13th, 2020, and March 14th, 2020, containing a hashtag or keyword related to COVID-19, and posted by a user declaring a location in Catalonia.\n",
        "\n",
        "The tweets are in a format known as [JSON](https://en.wikipedia.org/wiki/JSON#Example). Python's JSON library takes care of translating it into a dictionary.\n",
        "\n",
        "**How was this file obtained?** This file was obtained from the [CrisisNLP](https://crisisnlp.qcri.org/covid19). This is a website that provides COVID-19 collections of tweets, however, they only provide the identifier of the tweet, known as a tweet-id. To recover the entire tweet, a process commonly known as *re-hydration* was used, which involves querying an API from Twitter, giving the tweet-id, and obtaining the tweet. This can be done with a little bit of programming or using a software such as [twarc](https://github.com/DocNow/twarc#dehydrate).\n",
        "\n",
        "<font size=\"-1\" color=\"gray\">(Remove this cell when delivering.)</font>"
      ],
      "id": "12a9393430d5bd1"
    },
    {
      "metadata": {
        "id": "bf09cd17510c16e1"
      },
      "cell_type": "markdown",
      "source": [
        "Author: <font color=\"blue\">Your name here</font>\n",
        "\n",
        "E-mail: <font color=\"blue\">Your e-mail here</font>\n",
        "\n",
        "Date: <font color=\"blue\">The current date here</font>"
      ],
      "id": "bf09cd17510c16e1"
    },
    {
      "metadata": {
        "id": "a817a25ae5522652"
      },
      "cell_type": "markdown",
      "source": [
        "# 1. Create the directed mention network"
      ],
      "id": "a817a25ae5522652"
    },
    {
      "metadata": {
        "id": "31d837ae5f06a13d"
      },
      "cell_type": "markdown",
      "source": [
        "Create the **directed mention network**, which has a weighted edge (source, target, weight) if user *source* mentioned user *target* at least once; with *weight* indicating the number of mentions.\n",
        "\n",
        "Create two files: one containing all edges, and one containing all edges having *count* greater or equal than 2.\n",
        "\n",
        "<font size=\"-1\" color=\"gray\">(Remove this cell when delivering.)</font>"
      ],
      "id": "31d837ae5f06a13d"
    },
    {
      "metadata": {
        "id": "df3ec0b3e470632c"
      },
      "cell_type": "markdown",
      "source": [],
      "id": "df3ec0b3e470632c"
    },
    {
      "metadata": {
        "ExecuteTime": {
          "end_time": "2024-09-20T13:06:58.191215Z",
          "start_time": "2024-09-20T13:06:58.189083Z"
        },
        "id": "fec5a9156a69468"
      },
      "cell_type": "code",
      "source": [
        "import io\n",
        "import json\n",
        "import gzip\n",
        "import csv\n",
        "import re\n",
        "\n",
        "from IPython.display import Image"
      ],
      "id": "fec5a9156a69468",
      "outputs": [],
      "execution_count": null
    },
    {
      "metadata": {
        "ExecuteTime": {
          "end_time": "2024-09-20T13:07:00.921575Z",
          "start_time": "2024-09-20T13:07:00.919377Z"
        },
        "id": "31000517e3d3605d"
      },
      "cell_type": "code",
      "source": [
        "# Leave this code as-is\n",
        "\n",
        "# Input file\n",
        "COMPRESSED_INPUT_FILENAME = \"CovidLockdownCatalonia.json.gz\"\n",
        "\n",
        "# These are the output files, leave as-is\n",
        "OUTPUT_ALL_EDGES_FILENAME = \"CovidLockdownCatalonia.csv\"\n",
        "OUTPUT_FILTERED_EDGES_FILENAME = \"CovidLockdownCatalonia-min-weight-filtered.csv\"\n",
        "OUTPUT_CO_MENTIONS_FILENAME = \"CovidLockdownCatalonia-co-mentions.csv\""
      ],
      "id": "31000517e3d3605d",
      "outputs": [],
      "execution_count": null
    },
    {
      "metadata": {
        "id": "8098fa921cc5b574"
      },
      "cell_type": "markdown",
      "source": [
        "## 1.1. Extract mentions"
      ],
      "id": "8098fa921cc5b574"
    },
    {
      "metadata": {
        "id": "d1e2f28da4e0f0b0"
      },
      "cell_type": "markdown",
      "source": [
        "The `extract_mentions(text)` functions is used to extract mentions, so that if we give, for instance `RT @elnacionalcat: check this post by @en_blau`, it returns the list `['elnacionalcat', 'en_blau']`.\n",
        "\n",
        "You can now print all the people mentioned in a tweet by doing:\n",
        "\n",
        "```python\n",
        "mentions = extract_mentions(message)\n",
        "for mention in mentions:\n",
        "    print(\"%s mentioned %s\" % (author, mention))\n",
        "```\n",
        "\n",
        "<font size=\"-1\" color=\"gray\">(Remove this cell when delivering.)</font>"
      ],
      "id": "d1e2f28da4e0f0b0"
    },
    {
      "metadata": {
        "ExecuteTime": {
          "end_time": "2024-09-20T13:07:03.569054Z",
          "start_time": "2024-09-20T13:07:03.566381Z"
        },
        "id": "2a02de30aed2900c",
        "outputId": "733575b3-4f6f-4b58-959c-32b4bbc688a8"
      },
      "cell_type": "code",
      "source": [
        "# Leave this code as-is\n",
        "\n",
        "def extract_mentions(text):\n",
        "    return re.findall(\"@([a-zA-Z0-9_]{5,20})\", text)\n",
        "\n",
        "print(extract_mentions(\"RT @elnacionalcat: check this post by @en_blau\"))"
      ],
      "id": "2a02de30aed2900c",
      "outputs": [
        {
          "name": "stdout",
          "output_type": "stream",
          "text": [
            "['elnacionalcat', 'en_blau']\n"
          ]
        }
      ],
      "execution_count": null
    },
    {
      "metadata": {
        "id": "64e4d129833ed0be"
      },
      "cell_type": "markdown",
      "source": [
        "## 1.2. Count mentions\n"
      ],
      "id": "64e4d129833ed0be"
    },
    {
      "metadata": {
        "id": "1288ba9511a342e0"
      },
      "cell_type": "markdown",
      "source": [
        "We do not need to uncompress this file (it is about 236 MB uncompressed, but only 31 MB compressed), but we can read it directly while it is compressed.\n",
        "\n",
        "```python\n",
        "with gzip.open(COMPRESSED_INPUT_FILENAME, \"rt\", encoding=\"utf-8\") as input_file:\n",
        "    for line in input_file:\n",
        "        tweet = json.loads(line)\n",
        "        author = tweet[\"user\"][\"screen_name\"]\n",
        "        message = tweet[\"full_text\"]\n",
        "        print(\"%s: '%s'\" % (author, message))\n",
        "```\n",
        "\n",
        "To count how many times a mention happen, you will keep a dictionary:\n",
        "\n",
        "```python\n",
        "mentions_counter = {}\n",
        "```\n",
        "\n",
        "Each key in the dictionary will be a tuple `(author, mention)` where `author` is the username of the person who writes the message, and `mention` the username of someone who is mentioned in the message. To update the dictionary, use this code while you are reading the input file:\n",
        "\n",
        "```python\n",
        "for mention in mentions:\n",
        "    key = (author, mention)\n",
        "    if key in mentions_counter:\n",
        "        mentions_counter[key] += 1\n",
        "    else:\n",
        "        mentions_counter[key] = 1\n",
        "```\n",
        "\n",
        "<font size=\"-1\" color=\"gray\">(Remove this cell when delivering.)</font>\n"
      ],
      "id": "1288ba9511a342e0"
    },
    {
      "metadata": {
        "id": "ccd2880cdcd01b3a"
      },
      "cell_type": "markdown",
      "source": [
        "<font size=\"+1\" color=\"red\">Replace this cell with your code to read the compressed input file and create the mentions_counter dictionary.</font>\n"
      ],
      "id": "ccd2880cdcd01b3a"
    },
    {
      "metadata": {
        "id": "70427c56821c8a99"
      },
      "cell_type": "markdown",
      "source": [
        "Print the number of times the account `joanmariapique` mentioned `catalangov`. It should be 9.\n",
        "<font size=\"-1\" color=\"gray\">(Remove this cell when delivering.)</font>"
      ],
      "id": "70427c56821c8a99"
    },
    {
      "metadata": {
        "ExecuteTime": {
          "end_time": "2024-09-20T13:07:10.729285Z",
          "start_time": "2024-09-20T13:07:10.726963Z"
        },
        "id": "325a0d304ae3d6ca",
        "outputId": "db54fc9b-d2d7-4543-efe1-3c070ddcac7b"
      },
      "cell_type": "code",
      "source": [
        "print( mentions_counter[('joanmariapique', 'catalangov')])"
      ],
      "id": "325a0d304ae3d6ca",
      "outputs": [
        {
          "name": "stdout",
          "output_type": "stream",
          "text": [
            "9\n"
          ]
        }
      ],
      "execution_count": null
    },
    {
      "metadata": {
        "id": "cfb8a7c4064d7712"
      },
      "cell_type": "markdown",
      "source": [
        "Now we write a file `OUTPUT_ALL_EDGES_FILENAME` with **all** the edges in this graph `(Source, Target, Weight)` as a tab-separated file, and `OUTPUT_FILTERED_EDGES_FILENAME` with edges of weight larger or equal to 4.\n",
        "\n",
        "<font size=\"-1\" color=\"gray\">(Remove this cell when delivering.)</font>"
      ],
      "id": "cfb8a7c4064d7712"
    },
    {
      "metadata": {
        "id": "603195ef6172d5d9"
      },
      "cell_type": "markdown",
      "source": [
        "\n",
        "<font size=\"+1\" color=\"red\">Replace this cell with your code to print all the pairs of accounts (u,v) in which account *u* mentioned account *v*, and account *v* mentioned account *u* more than 8 times in total. Do not repeat pairs, i.e., if you print \"Accounts @a and @b mention each other\" do not additionally print \"Accounts @b and @a mention each other\" only print sum of the @a and @b co-mentions (Accounts @a and @b mention each other N times\")</font>\n"
      ],
      "id": "603195ef6172d5d9"
    },
    {
      "metadata": {
        "ExecuteTime": {
          "end_time": "2024-09-20T13:07:14.959373Z",
          "start_time": "2024-09-20T13:07:14.932096Z"
        },
        "id": "44b9fbcd1dd2a7f6"
      },
      "cell_type": "code",
      "source": [
        "# Leave this code as-is\n",
        "\n",
        "with io.open(OUTPUT_ALL_EDGES_FILENAME, \"w\") as output_file:\n",
        "    writer = csv.writer(output_file, delimiter='\\t', quotechar='\"')\n",
        "    writer.writerow([\"Source\", \"Target\", \"Weight\"])\n",
        "    for key in mentions_counter:\n",
        "        author = key[0]\n",
        "        mention = key[1]\n",
        "        weight = mentions_counter[key]\n",
        "        writer.writerow([author, mention, weight])"
      ],
      "id": "44b9fbcd1dd2a7f6",
      "outputs": [],
      "execution_count": null
    },
    {
      "metadata": {
        "id": "e273eb68abe20522"
      },
      "cell_type": "markdown",
      "source": [
        "<font size=\"+1\" color=\"red\">Replace this cell with your code to create a file named `OUTPUT_FILTERED_EDGES_FILENAME` containing all (author, mention) pairs with a value greater or equal to 3.</font>"
      ],
      "id": "e273eb68abe20522"
    },
    {
      "metadata": {
        "id": "e74d8866678bc80b"
      },
      "cell_type": "markdown",
      "source": [
        "# 2. Visualize the directed mention network\n"
      ],
      "id": "e74d8866678bc80b"
    },
    {
      "metadata": {
        "id": "ebdb7d932514ad2d"
      },
      "cell_type": "markdown",
      "source": [
        "## 2.1. Visualize the largest connected component\n"
      ],
      "id": "ebdb7d932514ad2d"
    },
    {
      "metadata": {
        "id": "ac36dd9acdb546cc"
      },
      "cell_type": "markdown",
      "source": [
        "\n",
        "Open the **filtered** edge file in Cytoscape, by importing its CSV file. You may have to set the delimiter to \"Tab\" in the advanced options, when importing.\n",
        "\n",
        "(a) Execute ``Layout > Edge weighted spring embedded layout > Edge betweenness``\n",
        "\n",
        "(b) Style edges to add arrows at the end of each edge.\n",
        "\n",
        "(c) **Extract the largest connected component of the graph.** Click on any node in that connected component, then click on the \"two houses\" (neighbor) icon repeatedly until selecting all nodes in the connected component (or use Ctrl/Cmd+mouse). Then ``File > New Network > From Selected Nodes, all Edges``.\n",
        "\n",
        "*Tip*: To count nodes in Cytoscape, hold shift while clicking and select the nodes. In the lower-right corner you should see a count of nodes and edges.\n",
        "\n",
        "<font size=\"-1\" color=\"gray\">(Remove this cell when delivering.)</font>\n"
      ],
      "id": "ac36dd9acdb546cc"
    },
    {
      "metadata": {
        "id": "704841c9783cc5fe"
      },
      "cell_type": "markdown",
      "source": [
        "Style nodes in the largest connected component:\n",
        "\n",
        "* Run `Tools > Analyze Network ...` -- select **directed graph** because this graph is directed\n",
        "* Node size and label size proportional to their in-degree\n",
        "* Node color proportional to in-degree (white=small, blue=large)\n",
        "* Edge width proportional to weight\n",
        "\n",
        "Save the image as `mentions-largest-cc.png`, the next cell should display it. It is OK if your image does not look exactly like the example we provide.\n",
        "\n",
        "*Tip*: The file is large so if you want to see all details while zooming out you may have to set ``View > Always show Graphic Details``. Note this makes the program run slower.\n",
        "\n",
        "<font size=\"-1\" color=\"gray\">(Remove this cell when delivering.)</font>"
      ],
      "id": "704841c9783cc5fe"
    },
    {
      "metadata": {
        "ExecuteTime": {
          "end_time": "2024-09-20T13:07:21.419627Z",
          "start_time": "2024-09-20T13:07:21.416081Z"
        },
        "id": "ff197cd9bb5c58ac",
        "outputId": "cf344415-52f2-4bdf-f2ce-6e632c686ced"
      },
      "cell_type": "code",
      "source": [
        "# Adjust width/height as needed\n",
        "\n",
        "Image(url=\"mentions-largest-cc.png\", width=1200)"
      ],
      "id": "ff197cd9bb5c58ac",
      "outputs": [
        {
          "data": {
            "text/html": [
              "<img src=\"mentions-largest-cc.png\" width=\"1200\"/>"
            ],
            "text/plain": [
              "<IPython.core.display.Image object>"
            ]
          },
          "execution_count": 12,
          "metadata": {},
          "output_type": "execute_result"
        }
      ],
      "execution_count": null
    },
    {
      "metadata": {
        "id": "63f1603de81f7a19"
      },
      "cell_type": "markdown",
      "source": [
        "<font size=\"+1\" color=\"red\">Replace this cell with a brief commentary of what you see in this graph. What is the diameter of the largest connected component, disregarding edge direction? What is the size of the largest connected component, both as a number of nodes and as a percentage of the nodes in the graph? What is the size of the second largest connected component?</font>\n"
      ],
      "id": "63f1603de81f7a19"
    },
    {
      "metadata": {
        "id": "44f578d711847216"
      },
      "cell_type": "markdown",
      "source": [
        "## 2.2. Cluster the largest connected component\n"
      ],
      "id": "44f578d711847216"
    },
    {
      "metadata": {
        "id": "841b9ab69871d4eb"
      },
      "cell_type": "markdown",
      "source": [
        "Keep only the largest connected component, deleting the rest of the nodes (you can hold shift while drawing a rectangle, to select some nodes).\n",
        "\n",
        "Run the ClusterMaker2 plug-in to create a clustering (affinity propagation clustering) of this graph using the *weight* edge attribute. Color nodes according to their cluster, using a discrete mapping. Note that if you right-click on \"Mapping type\" when creating a discrete mapping, you can use an automatic mapping generator that you can fine-tune later.\n",
        "\n",
        "<font size=\"-1\" color=\"gray\">(Remove this cell when delivering.)</font>\n"
      ],
      "id": "841b9ab69871d4eb"
    },
    {
      "metadata": {
        "id": "a1a4065a559237e7"
      },
      "cell_type": "markdown",
      "source": [
        "<font size=\"+1\" color=\"red\">Look at the cluster containing the account ``@elnacionalcat``. Are there other thematically-related accounts in the same cluster? Name three of them. Indicate why do you think they are in the same cluster.</font>\n"
      ],
      "id": "a1a4065a559237e7"
    },
    {
      "metadata": {
        "id": "5c8e0527484b32e2"
      },
      "cell_type": "markdown",
      "source": [
        "\n",
        "## 2.3. Examine degree distributions\n"
      ],
      "id": "5c8e0527484b32e2"
    },
    {
      "metadata": {
        "id": "ba94209537b610a6"
      },
      "cell_type": "markdown",
      "source": [],
      "id": "ba94209537b610a6"
    },
    {
      "metadata": {
        "id": "c0403c336839e8be"
      },
      "cell_type": "markdown",
      "source": [
        "In the **network containing the largest connected component**, and look at the Results Panel of the network analyzer.``Tools > Plot Histogram > select In/Out degree``  and obtain in-degree and out-degree plots.\n",
        "\n",
        "Export the distributions as `mentions-largest-cc-indegree.png` and `mentions-largest-cc-outdegree.png`, the next cell should display them.\n",
        "\n",
        "<font size=\"-1\" color=\"gray\">(Remove this cell when delivering.)</font>"
      ],
      "id": "c0403c336839e8be"
    },
    {
      "metadata": {
        "ExecuteTime": {
          "end_time": "2024-09-20T13:07:26.356307Z",
          "start_time": "2024-09-20T13:07:26.352901Z"
        },
        "id": "43ae5b1d582206dc",
        "outputId": "f6ca9888-506c-4472-a49a-c563fb0ae566"
      },
      "cell_type": "code",
      "source": [
        "# Adjust width/height as needed\n",
        "\n",
        "display(Image(url=\"mentions-largest-cc-indegree.png\", width=400))\n",
        "\n",
        "display(Image(url=\"mentions-largest-cc-outdegree.png\", width=400))"
      ],
      "id": "43ae5b1d582206dc",
      "outputs": [
        {
          "data": {
            "text/html": [
              "<img src=\"mentions-largest-cc-indegree.png\" width=\"400\"/>"
            ],
            "text/plain": [
              "<IPython.core.display.Image object>"
            ]
          },
          "metadata": {},
          "output_type": "display_data"
        },
        {
          "data": {
            "text/html": [
              "<img src=\"mentions-largest-cc-outdegree.png\" width=\"400\"/>"
            ],
            "text/plain": [
              "<IPython.core.display.Image object>"
            ]
          },
          "metadata": {},
          "output_type": "display_data"
        }
      ],
      "execution_count": null
    },
    {
      "metadata": {
        "id": "12f64881da349609"
      },
      "cell_type": "markdown",
      "source": [
        "<font size=\"+1\" color=\"red\">Replace this cell by a brief commentary, in your own words, about these degree distributions</font>"
      ],
      "id": "12f64881da349609"
    },
    {
      "metadata": {
        "id": "254e7249cdf8bb3f"
      },
      "cell_type": "markdown",
      "source": [
        "# 3. Create the undirected co-mention network\n"
      ],
      "id": "254e7249cdf8bb3f"
    },
    {
      "metadata": {
        "id": "bf3510a651836460"
      },
      "cell_type": "markdown",
      "source": [
        "The **undirected co-mention network** connects two accounts if they are both mentioned in the same tweet. The weight of the edge is the number of tweets in which the accounts are co-mentioned.\n",
        "\n",
        "Suppose the mentions in a Tweet are in the array ``mentions``, then you can iterate through all pairs of co-mentioned like this:\n",
        "\n",
        "```python\n",
        "for mention1 in mentions:\n",
        "    for mention2 in mentions:\n",
        "        if mention1 < mention2:\n",
        "            key = (mention1, mention2)\n",
        "```\n",
        "\n",
        "Read the input file again to create a dictionary `co_mentions_counter` in which keys are tuples (user1, user2) in which user1 lexicographically precedes user2 (user1 < user2), and values are the number of times user1 and user2 have appeared together in a tweet.\n",
        "\n",
        "<font size=\"-1\" color=\"gray\">(Remove this cell when delivering.)</font>"
      ],
      "id": "bf3510a651836460"
    },
    {
      "metadata": {
        "id": "1e5a28b02b84f959"
      },
      "cell_type": "markdown",
      "source": [
        "<font size=\"+1\" color=\"red\">Replace this cell with your code to create the `co_mentions_counter`.</font>\n"
      ],
      "id": "1e5a28b02b84f959"
    },
    {
      "metadata": {
        "id": "6cb9916cd3c6f94"
      },
      "cell_type": "markdown",
      "source": [
        "Print the number of times the accounts `educaciocat` and `elnacionalcat` have been mentioned together. It should be 8.\n",
        "\n",
        "<font size=\"-1\" color=\"gray\">(Remove this cell when delivering.)</font>\n"
      ],
      "id": "6cb9916cd3c6f94"
    },
    {
      "metadata": {
        "ExecuteTime": {
          "end_time": "2024-09-20T13:12:28.799697Z",
          "start_time": "2024-09-20T13:12:28.797729Z"
        },
        "id": "43cb63bc150d6b26",
        "outputId": "93e8fde0-f922-4024-caa1-34c9bedb2f37"
      },
      "cell_type": "code",
      "source": [
        "# KEEP AS-IS\n",
        "\n",
        "print(co_mentions_counter[('educaciocat', 'elnacionalcat')])"
      ],
      "id": "43cb63bc150d6b26",
      "outputs": [
        {
          "name": "stdout",
          "output_type": "stream",
          "text": [
            "8\n"
          ]
        }
      ],
      "execution_count": null
    },
    {
      "metadata": {
        "id": "796f846b64085294"
      },
      "cell_type": "markdown",
      "source": [
        "<font size=\"+1\" color=\"red\">Replace this cell with your code to print all pairs of accounts that have been co-mentioned 20 times or more.</font>"
      ],
      "id": "796f846b64085294"
    },
    {
      "metadata": {
        "id": "8e9fec31c8f375df"
      },
      "cell_type": "markdown",
      "source": [
        "Now create a file named `OUTPUT_CO_MENTIONS_FILENAME` containing co-mentions in tab-separated columns `Source, Target, Weight`.\n",
        "\n",
        "<font size=\"-1\" color=\"gray\">(Remove this cell when delivering.)</font>"
      ],
      "id": "8e9fec31c8f375df"
    },
    {
      "metadata": {
        "id": "b280ae9ea497adc6"
      },
      "cell_type": "markdown",
      "source": [
        "<font size=\"+1\" color=\"red\">Replace this cell with your code to create the co-mentions file.</font>"
      ],
      "id": "b280ae9ea497adc6"
    },
    {
      "metadata": {
        "id": "57c10caa7e74289e"
      },
      "cell_type": "markdown",
      "source": [
        "# 4. Visualize the undirected co-mention network in Cytoscape\n"
      ],
      "id": "57c10caa7e74289e"
    },
    {
      "metadata": {
        "id": "3d16e04ac385f26"
      },
      "cell_type": "markdown",
      "source": [
        "Open the `OUTPUT_CO_MENTIONS_FILENAME` file in Cytoscape.\n",
        "\n",
        "**Select nodes having degree (in + out) larger or equal to 17.** You can do that with the `Filter` panel on the left, then create a new graph with the selected edges.\n",
        "\n",
        "Use `Layout > Edge weighted spring embedded layout > Weight` to create a layout by edge weight. You can also move nodes around to adjust this layout if you want it to be more readable.\n",
        "\n",
        "Style the network so that:\n",
        "\n",
        "* All nodes have the same size\n",
        "* Edges have width proportional to weight.\n",
        "* Edges are black for small weight, and red for large weight\n",
        "\n",
        "Export the image as `co-mentions-min-degree-17.png`, the next cell should display it.\n",
        "\n",
        "<font size=\"-1\" color=\"gray\">(Remove this cell when delivering.)</font>\n"
      ],
      "id": "3d16e04ac385f26"
    },
    {
      "metadata": {
        "ExecuteTime": {
          "end_time": "2024-09-20T13:31:07.072491Z",
          "start_time": "2024-09-20T13:31:07.070241Z"
        },
        "id": "702ba9d095d69903",
        "outputId": "f8ef5902-f587-4219-b0ac-8b8207a57504"
      },
      "cell_type": "code",
      "source": [
        "# Adjust width/height as needed\n",
        "\n",
        "Image(url=\"co-mentions-min-degree-17.png\", width=1200)"
      ],
      "id": "702ba9d095d69903",
      "outputs": [
        {
          "data": {
            "text/html": [
              "<img src=\"co-mentions-min-degree-17.png\" width=\"1200\"/>"
            ],
            "text/plain": [
              "<IPython.core.display.Image object>"
            ]
          },
          "execution_count": 29,
          "metadata": {},
          "output_type": "execute_result"
        }
      ],
      "execution_count": null
    },
    {
      "metadata": {
        "id": "7f413055f069c1b0"
      },
      "cell_type": "markdown",
      "source": [
        "<font size=\"+1\" color=\"red\">Replace this cell by a brief commentary, in your own words, of what you see in this graph. Which kinds of connected components does it have? Are connected components sparse or dense? Is there any specially dense sub-graph within the largest connected component, what is it? Include any aspects that you find relevant.</font>"
      ],
      "id": "7f413055f069c1b0"
    },
    {
      "metadata": {
        "id": "b991b6c44b214456"
      },
      "cell_type": "markdown",
      "source": [
        "# DELIVER (individually)\n",
        "\n",
        "Deliver a zip file containing:\n",
        "\n",
        "* Your code as a Python notebook (a `.ipynb` file).\n",
        "   * Remove all unnecessary elements\n",
        "   * Add comments when needed\n",
        "* Any png files that you inserted in the notebook\n",
        "\n",
        "## Extra points available\n",
        "\n",
        "For more learning and extra points, create a file `account-type.csv` containing the type of account of the top 50 accounts with the most mentions. You can use types \"journalist\", \"media\", \"politician\", \"government institution\", \"individual\", \"health-related\", etc. which you should categorize manually. Create a visualization of the **mentions** graph either including only these 50 accounts, or including more accounts but highlighting these top 50 with colors. Use broad categories as needed and **do not worry if there are some ambiguities in the categorization,** e.g., if you are not 100% sure on whether someone should be in one category or another; just do your best.\n",
        "\n",
        "**Note:** if you go for the extra points, add ``<font size=\"+2\" color=\"blue\">Additional results: account types</font>`` at the top of your notebook.\n",
        "\n",
        "<font size=\"-1\" color=\"gray\">(Remove this cell when delivering.)</font>"
      ],
      "id": "b991b6c44b214456"
    },
    {
      "metadata": {
        "id": "24cef4603c2621a8"
      },
      "cell_type": "markdown",
      "source": [
        "<font size=\"+2\" color=\"#003300\">I hereby declare that, except for the code provided by the course instructors, all of my code, text, and figures were produced by myself.</font>"
      ],
      "id": "24cef4603c2621a8"
    }
  ],
  "metadata": {
    "kernelspec": {
      "display_name": "Python 3",
      "language": "python",
      "name": "python3"
    },
    "language_info": {
      "codemirror_mode": {
        "name": "ipython",
        "version": 2
      },
      "file_extension": ".py",
      "mimetype": "text/x-python",
      "name": "python",
      "nbconvert_exporter": "python",
      "pygments_lexer": "ipython2",
      "version": "2.7.6"
    },
    "colab": {
      "provenance": []
    }
  },
  "nbformat": 4,
  "nbformat_minor": 5
}